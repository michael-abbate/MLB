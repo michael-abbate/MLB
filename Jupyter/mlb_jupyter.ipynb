{
 "cells": [
  {
   "cell_type": "code",
   "execution_count": 1,
   "metadata": {},
   "outputs": [
    {
     "name": "stdout",
     "output_type": "stream",
     "text": [
      "/Users/mabbate/Desktop/Python_Projects/CS733/Final_Project/final\n",
      "/Users/mabbate/Desktop/Python_Projects/CS733/Final_Project/final\n"
     ]
    }
   ],
   "source": [
    "import os\n",
    "print(os.getcwd())\n",
    "os.chdir('/Users/mabbate/Desktop/Python_Projects/CS733/Final_Project/final')\n",
    "print(os.getcwd())"
   ]
  },
  {
   "cell_type": "code",
   "execution_count": 2,
   "metadata": {},
   "outputs": [],
   "source": [
    "from pitcher_fct import plotPitch\n",
    "import pandas as pd\n",
    "import numpy\n",
    "import matplotlib.pyplot as plt\n",
    "from sklearn.model_selection import train_test_split\n",
    "from sklearn.metrics import confusion_matrix, accuracy_score, classification_report\n",
    "from sklearn.ensemble import RandomForestClassifier\n",
    "from sklearn.utils import resample\n",
    "from sklearn.metrics import roc_auc_score, plot_roc_curve\n",
    "from numpy.random import seed\n",
    "from sklearn.tree import plot_tree\n",
    "import time\n",
    "from datetime import datetime\n",
    "from mlb_final_v2 import evaluate"
   ]
  },
  {
   "cell_type": "code",
   "execution_count": 3,
   "metadata": {
    "scrolled": true
   },
   "outputs": [
    {
     "name": "stdout",
     "output_type": "stream",
     "text": [
      "The total number of rows is: 736325\n",
      "The number of rows due to NaN dropped: 11723 \n",
      "\n",
      "Initial Value Counts:\n",
      "1    496796\n",
      "0    239529\n",
      "Name: event, dtype: int64 \n",
      "\n",
      "New Value Counts After Resampling:\n",
      "1    496796\n",
      "0    496796\n",
      "Name: event, dtype: int64 \n",
      "\n"
     ]
    }
   ],
   "source": [
    " # Preprocess the data\n",
    "baseball_orig = pd.read_csv('mlb_cleaned_updated_PLOC.csv')\n",
    "b_nan = sum(baseball_orig.isnull().sum(axis = 0))\n",
    "baseball_orig.dropna(inplace=True)\n",
    "print(\"The total number of rows is:\", len(baseball_orig))\n",
    "print(\"The number of rows due to NaN dropped:\", b_nan, '\\n')\n",
    "print('Initial Value Counts:')\n",
    "print(baseball_orig.event.value_counts(), '\\n')\n",
    "\n",
    "\n",
    "# Separate majority and minority classes\n",
    "df_majority = baseball_orig[baseball_orig.event == 1]\n",
    "df_minority = baseball_orig[baseball_orig.event == 0]\n",
    "\n",
    "# Upsample minority class\n",
    "df_minority_upsampled = resample(df_minority,\n",
    "                                 replace=True,     # sample with replacement\n",
    "                                 n_samples= baseball_orig['event'].sum(),    # to match majority class\n",
    "                                 random_state=123) # reproducible results\n",
    "\n",
    "# Combine majority class with upsampled minority class\n",
    "baseball = pd.concat([df_majority, df_minority_upsampled])\n",
    "\n",
    "# Display new class counts\n",
    "print('New Value Counts After Resampling:')\n",
    "print(baseball.event.value_counts(), '\\n')"
   ]
  },
  {
   "cell_type": "code",
   "execution_count": 4,
   "metadata": {
    "scrolled": true
   },
   "outputs": [
    {
     "name": "stdout",
     "output_type": "stream",
     "text": [
      "The shape of X_train:  (695514, 31)\n",
      "The shape of y_train:  (695514,)\n",
      "The shape of X_test:  (298078, 31)\n",
      "The shape of y_test:  (298078,)\n"
     ]
    }
   ],
   "source": [
    "X_orig = baseball.iloc[:, 7:-1]\n",
    "for col in X_orig:\n",
    "    if X_orig[str(col)].max() !=1:\n",
    "        col = str(col)\n",
    "        X_orig[col] = (X_orig[col] - X_orig[col].min()) / (X_orig[col].max() - X_orig[col].min())\n",
    "\n",
    "X = X_orig\n",
    "# 1 is out, 0 is on-base\n",
    "y = baseball.iloc[:, -1:]\n",
    "# y.loc[y['event'] == 0] = 'on-base'\n",
    "# y.loc[y['event'] == 1] = 'out'\n",
    "\n",
    "\n",
    "X_train, X_test, y_train, y_test = train_test_split(X, y.values.ravel(), test_size=0.3, random_state = 100)\n",
    "\n",
    "print(\"The shape of X_train: \", X_train.shape)\n",
    "print(\"The shape of y_train: \", y_train.shape)\n",
    "print(\"The shape of X_test: \", X_test.shape)\n",
    "print(\"The shape of y_test: \", y_test.shape)"
   ]
  },
  {
   "cell_type": "code",
   "execution_count": null,
   "metadata": {},
   "outputs": [],
   "source": [
    "print(\"Random Forest: ------------------------------------------------\")\n",
    "    # Create the RF Classifier\n",
    "rf_classifier = RandomForestClassifier(criterion = 'gini', random_state = 100,    #max_features='sqrt',\n",
    "                                       bootstrap=False, class_weight='balanced',\n",
    "                                       n_estimators=245 )#, max_depth=6, max_leaf_nodes=20)  # 245\n",
    "# Fit the training data\n",
    "rf_classifier.fit(X_train, y_train)\n",
    "print('Fitted!')"
   ]
  },
  {
   "cell_type": "code",
   "execution_count": null,
   "metadata": {},
   "outputs": [],
   "source": [
    "# Predict at-bat outcomes using X_test\n",
    "y_pred = rf_classifier.predict(X_test)\n",
    "# Evaluate the predictions\n",
    "evaluate(y_test, y_pred)\n",
    "# Get probabilities for each class\n",
    "rf_probs = rf_classifier.predict_proba(X_test)[:, 1]\n",
    "X_test['probs'] = rf_probs\n",
    "print(X_test[['px','probs']])"
   ]
  },
  {
   "cell_type": "code",
   "execution_count": 6,
   "metadata": {
    "scrolled": true
   },
   "outputs": [
    {
     "data": {
      "text/html": [
       "<div>\n",
       "<style scoped>\n",
       "    .dataframe tbody tr th:only-of-type {\n",
       "        vertical-align: middle;\n",
       "    }\n",
       "\n",
       "    .dataframe tbody tr th {\n",
       "        vertical-align: top;\n",
       "    }\n",
       "\n",
       "    .dataframe thead th {\n",
       "        text-align: right;\n",
       "    }\n",
       "</style>\n",
       "<table border=\"1\" class=\"dataframe\">\n",
       "  <thead>\n",
       "    <tr style=\"text-align: right;\">\n",
       "      <th></th>\n",
       "      <th>px</th>\n",
       "      <th>pz</th>\n",
       "    </tr>\n",
       "  </thead>\n",
       "  <tbody>\n",
       "    <tr>\n",
       "      <th>0</th>\n",
       "      <td>0.627</td>\n",
       "      <td>2.397</td>\n",
       "    </tr>\n",
       "    <tr>\n",
       "      <th>1</th>\n",
       "      <td>-0.257</td>\n",
       "      <td>2.047</td>\n",
       "    </tr>\n",
       "    <tr>\n",
       "      <th>2</th>\n",
       "      <td>-0.286</td>\n",
       "      <td>1.830</td>\n",
       "    </tr>\n",
       "  </tbody>\n",
       "</table>\n",
       "</div>"
      ],
      "text/plain": [
       "      px     pz\n",
       "0  0.627  2.397\n",
       "1 -0.257  2.047\n",
       "2 -0.286  1.830"
      ]
     },
     "execution_count": 6,
     "metadata": {},
     "output_type": "execute_result"
    }
   ],
   "source": [
    "# Plot the locations of the first three pitches from the original dataset\n",
    "baseball_orig[['px','pz']].head(3)"
   ]
  },
  {
   "cell_type": "code",
   "execution_count": 7,
   "metadata": {},
   "outputs": [
    {
     "data": {
      "image/png": "[encoded data removed]",
      "text/plain": [
       "<Figure size 432x288 with 1 Axes>"
      ]
     },
     "metadata": {
      "needs_background": "light"
     },
     "output_type": "display_data"
    }
   ],
   "source": [
    "px = baseball_orig['px'].head(3)\n",
    "pz = baseball_orig['pz'].head(3)\n",
    "plotPitch(px,pz)"
   ]
  }
 ],
 "metadata": {
  "kernelspec": {
   "display_name": "Python 3",
   "language": "python",
   "name": "python3"
  },
  "language_info": {
   "codemirror_mode": {
    "name": "ipython",
    "version": 3
   },
   "file_extension": ".py",
   "mimetype": "text/x-python",
   "name": "python",
   "nbconvert_exporter": "python",
   "pygments_lexer": "ipython3",
   "version": "3.6.5"
  }
 },
 "nbformat": 4,
 "nbformat_minor": 2
}
